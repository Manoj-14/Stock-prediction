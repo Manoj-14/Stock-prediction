{
 "cells": [
  {
   "cell_type": "markdown",
   "id": "7c50ba41",
   "metadata": {},
   "source": [
    "<h1 style='color:red; text-align:center;'>Stock prediction using machine learning and python</h1>"
   ]
  },
  {
   "cell_type": "code",
   "execution_count": null,
   "id": "f7892c58",
   "metadata": {},
   "outputs": [],
   "source": [
    "import pandas as pd\n",
    "import numpy as np\n",
    "import matplotlib.pyplot as plt\n",
    "import datetime\n",
    "import keras"
   ]
  },
  {
   "cell_type": "code",
   "execution_count": null,
   "id": "4fa0883c",
   "metadata": {},
   "outputs": [],
   "source": [
    "path='./Data/Google_Stock_Price_Train.csv'\n",
    "stock_data = pd.read_csv(path,index_col=\"Date\",parse_dates=True)\n",
    "stock_data.head(10)"
   ]
  },
  {
   "cell_type": "code",
   "execution_count": null,
   "id": "9297a61e",
   "metadata": {},
   "outputs": [],
   "source": [
    "stock_data.tail()"
   ]
  },
  {
   "cell_type": "markdown",
   "id": "d25c0647",
   "metadata": {},
   "source": [
    "<h2>Data Pre-processing</h2>"
   ]
  },
  {
   "cell_type": "code",
   "execution_count": null,
   "id": "cbd98c60",
   "metadata": {},
   "outputs": [],
   "source": [
    "#shape of data\n",
    "stock_data.shape"
   ]
  },
  {
   "cell_type": "code",
   "execution_count": null,
   "id": "c4244192",
   "metadata": {},
   "outputs": [],
   "source": [
    "stock_data.head()"
   ]
  },
  {
   "cell_type": "code",
   "execution_count": null,
   "id": "ac1c18ce",
   "metadata": {},
   "outputs": [],
   "source": [
    "stock_data.isnull().sum()\n",
    "stock_data.isna().any()\n",
    "#no nan or missing data hence data is cleaned"
   ]
  },
  {
   "cell_type": "code",
   "execution_count": null,
   "id": "65d5c2f4",
   "metadata": {},
   "outputs": [],
   "source": [
    "stock_data.info()"
   ]
  },
  {
   "cell_type": "code",
   "execution_count": null,
   "id": "df2f00f2",
   "metadata": {},
   "outputs": [],
   "source": [
    "stock_data['Close'] = stock_data['Close'].str.replace(',','').astype(float)"
   ]
  },
  {
   "cell_type": "code",
   "execution_count": null,
   "id": "d295cbba",
   "metadata": {},
   "outputs": [],
   "source": [
    "stock_data['Volume'] = stock_data['Volume'].str.replace(',','').astype(float)"
   ]
  },
  {
   "cell_type": "code",
   "execution_count": null,
   "id": "ae666677",
   "metadata": {},
   "outputs": [],
   "source": [
    "stock_data['Open'].plot(figsize=(16,6))\n",
    "plt.title('Growth of stocks from 2012 to 2017')\n",
    "plt.show()"
   ]
  },
  {
   "cell_type": "code",
   "execution_count": null,
   "id": "778d54a3",
   "metadata": {},
   "outputs": [],
   "source": [
    "#7 days rolling mean\n",
    "stock_data.rolling(7).mean().head(20)"
   ]
  },
  {
   "cell_type": "code",
   "execution_count": null,
   "id": "a1587354",
   "metadata": {},
   "outputs": [],
   "source": [
    "stock_data['Open'].plot()\n",
    "stock_data.rolling(window=30).mean()['Close'].plot()\n",
    "plt.title(\"Comparing rolling mean and growth\")\n",
    "plt.show()"
   ]
  },
  {
   "cell_type": "code",
   "execution_count": null,
   "id": "79b4ada0",
   "metadata": {},
   "outputs": [],
   "source": [
    "stock_data['Close:30 Day mean']=stock_data['Close'].rolling(window=30).mean()\n",
    "stock_data[['Close','Close:30 Day mean']].plot(figsize=(16,6))\n",
    "plt.show()"
   ]
  },
  {
   "cell_type": "code",
   "execution_count": null,
   "id": "8edae392",
   "metadata": {},
   "outputs": [],
   "source": [
    "stock_data['Close'].expanding(min_periods=1).mean().plot()\n",
    "plt.show()"
   ]
  },
  {
   "cell_type": "code",
   "execution_count": null,
   "id": "8fbb8ef8",
   "metadata": {},
   "outputs": [],
   "source": [
    "training_data= stock_data['Open']\n",
    "training_data=pd.DataFrame(training_data)"
   ]
  },
  {
   "cell_type": "code",
   "execution_count": null,
   "id": "c0a63013",
   "metadata": {},
   "outputs": [],
   "source": [
    "from sklearn.preprocessing import MinMaxScaler"
   ]
  },
  {
   "cell_type": "code",
   "execution_count": null,
   "id": "1acf22b7",
   "metadata": {},
   "outputs": [],
   "source": [
    "sc=MinMaxScaler(feature_range=(0,1))\n",
    "training_data_scaled=sc.fit_transform(training_data)"
   ]
  },
  {
   "cell_type": "code",
   "execution_count": null,
   "id": "e9827336",
   "metadata": {},
   "outputs": [],
   "source": [
    "#60 times and one output\n",
    "X_train = []\n",
    "Y_train = []\n",
    "for i in range(60,1235):\n",
    "    X_train.append(training_data_scaled[i-60:i,0])\n",
    "    Y_train.append(training_data_scaled[i,0])\n",
    "X_train,Y_train=np.array(X_train),np.array(Y_train)\n",
    "#reshaping\n",
    "X_train=np.reshape(X_train,(X_train.shape[0],X_train.shape[1],1))\n",
    "# X_train.shape"
   ]
  },
  {
   "cell_type": "markdown",
   "id": "b0e3f459",
   "metadata": {},
   "source": [
    "<h2>Building RNN </h2>"
   ]
  },
  {
   "cell_type": "code",
   "execution_count": null,
   "id": "1f02fb7f",
   "metadata": {},
   "outputs": [],
   "source": [
    "#Building RNN\n",
    "from keras.models import Sequential\n",
    "from keras.layers import Dense\n",
    "from keras.layers import LSTM\n",
    "from keras.layers import Dropout"
   ]
  },
  {
   "cell_type": "code",
   "execution_count": null,
   "id": "1171788b",
   "metadata": {},
   "outputs": [],
   "source": [
    "regression = Sequential()"
   ]
  },
  {
   "cell_type": "code",
   "execution_count": null,
   "id": "a7628bae",
   "metadata": {},
   "outputs": [],
   "source": [
    "#Adding the first layer and some Dropout regularisation\n",
    "regression.add(LSTM(units=50,return_sequences=True ,input_shape=(X_train.shape[1],1)))\n",
    "regression.add(Dropout(0.2))\n",
    "\n",
    "#Adding the second layer and some Dropout regularisation\n",
    "regression.add(LSTM(units=50,return_sequences=True ))\n",
    "regression.add(Dropout(0.2))\n",
    "\n",
    "#Adding the third layer and some Dropout regularisation\n",
    "regression.add(LSTM(units=50,return_sequences=True ))\n",
    "regression.add(Dropout(0.2))\n",
    "\n",
    "#Adding the third layer and some Dropout regularisation\n",
    "regression.add(LSTM(units=50))\n",
    "regression.add(Dropout(0.2))\n",
    "\n",
    "#Adding output layer\n",
    "regression.add(Dense(units=1))"
   ]
  },
  {
   "cell_type": "markdown",
   "id": "a055a465",
   "metadata": {},
   "source": [
    "<h2>Training RNN</h2>"
   ]
  },
  {
   "cell_type": "code",
   "execution_count": null,
   "id": "b5e33fbe",
   "metadata": {},
   "outputs": [],
   "source": [
    "#compiling the rnn\n",
    "regression.compile(optimizer='adam',loss='mean_squared_error')\n",
    "\n",
    "#fitting the rnn into Training set\n",
    "regression.fit(X_train,Y_train,epochs=100,batch_size=32)"
   ]
  },
  {
   "cell_type": "markdown",
   "id": "0c4e1609",
   "metadata": {},
   "source": [
    "<h2>Testing RNN</h2>"
   ]
  },
  {
   "cell_type": "code",
   "execution_count": null,
   "id": "73bc10ac",
   "metadata": {},
   "outputs": [],
   "source": [
    "test_data = pd.read_csv('Google_Stock_Price_Test.csv',index_col=\"Date\",parse_dates=True)"
   ]
  },
  {
   "cell_type": "code",
   "execution_count": null,
   "id": "006b24c9",
   "metadata": {},
   "outputs": [],
   "source": [
    "real_stock_price = test_data.iloc[:,1:2].values\n",
    "real_stock_price"
   ]
  },
  {
   "cell_type": "code",
   "execution_count": null,
   "id": "ac5360d2",
   "metadata": {
    "scrolled": true
   },
   "outputs": [],
   "source": [
    "test_data.head()"
   ]
  },
  {
   "cell_type": "code",
   "execution_count": null,
   "id": "5061246d",
   "metadata": {},
   "outputs": [],
   "source": [
    "test_data.info()"
   ]
  },
  {
   "cell_type": "code",
   "execution_count": null,
   "id": "a0558790",
   "metadata": {},
   "outputs": [],
   "source": [
    "test_data['Volume'] = test_data['Volume'].str.replace(',','').astype(float)"
   ]
  },
  {
   "cell_type": "code",
   "execution_count": null,
   "id": "c49462bb",
   "metadata": {
    "scrolled": true
   },
   "outputs": [],
   "source": [
    "test_data.info()"
   ]
  },
  {
   "cell_type": "code",
   "execution_count": null,
   "id": "d7f8fbb1",
   "metadata": {},
   "outputs": [],
   "source": [
    "test_set = test_data['Open']\n",
    "test_set = pd.DataFrame(test_set)"
   ]
  },
  {
   "cell_type": "code",
   "execution_count": null,
   "id": "08d643af",
   "metadata": {},
   "outputs": [],
   "source": [
    "#Getting the predicted stock price of 2018\n",
    "dataset_total = pd.concat((stock_data['Open'],test_data['Open']),axis=0)\n",
    "inputs = dataset_total[len(dataset_total)-len(test_data)-60:].values\n",
    "inputs = inputs.reshape(-1,1)\n",
    "inputs = sc.transform(inputs)\n",
    "x_test=[]\n",
    "for i in range(60,80):\n",
    "    x_test.append(inputs[i-60:i,0])\n",
    "x_test = np.array(x_test)\n",
    "x_test = np.reshape(x_test,(x_test.shape[0],x_test.shape[1],1))\n",
    "predicted_stock_price = regression.predict(x_test)\n",
    "predicted_stock_price = sc.inverse_transform(predicted_stock_price)"
   ]
  },
  {
   "cell_type": "code",
   "execution_count": null,
   "id": "00ed97b9",
   "metadata": {},
   "outputs": [],
   "source": [
    "predicted_stock_price = pd.DataFrame(predicted_stock_price)\n",
    "predicted_stock_price.info()"
   ]
  },
  {
   "cell_type": "markdown",
   "id": "fd74aa55",
   "metadata": {},
   "source": [
    "<h2>Data visulisation</h2>"
   ]
  },
  {
   "cell_type": "code",
   "execution_count": null,
   "id": "6efb6a9e",
   "metadata": {},
   "outputs": [],
   "source": [
    "plt.plot(real_stock_price,color='red',label=\"Real Stock Price\")\n",
    "plt.plot(predicted_stock_price,color='blue',label=\"Predicted Stock Price\")\n",
    "plt.title(\"Google stock price prediction\")\n",
    "plt.xlabel(\"Time\")\n",
    "plt.ylabel(\"stock price\")\n",
    "plt.legend()\n",
    "plt.show()"
   ]
  }
 ],
 "metadata": {
  "kernelspec": {
   "display_name": "Python 3",
   "language": "python",
   "name": "python3"
  },
  "language_info": {
   "codemirror_mode": {
    "name": "ipython",
    "version": 3
   },
   "file_extension": ".py",
   "mimetype": "text/x-python",
   "name": "python",
   "nbconvert_exporter": "python",
   "pygments_lexer": "ipython3",
   "version": "3.8.8"
  }
 },
 "nbformat": 4,
 "nbformat_minor": 5
}
