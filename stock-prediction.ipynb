{
 "cells": [
  {
   "cell_type": "markdown",
   "id": "7c50ba41",
   "metadata": {},
   "source": [
    "<h1 style='color:red; text-align:center;'>Stock prediction using machine learning and python</h1>"
   ]
  },
  {
   "cell_type": "code",
   "execution_count": 1,
   "id": "f7892c58",
   "metadata": {},
   "outputs": [],
   "source": [
    "import pandas as pd\n",
    "import numpy as np\n",
    "import matplotlib.pyplot as plt\n",
    "import datetime\n",
    "import keras"
   ]
  },
  {
   "cell_type": "code",
   "execution_count": 2,
   "id": "4fa0883c",
   "metadata": {},
   "outputs": [
    {
     "data": {
      "text/html": [
       "<div>\n",
       "<style scoped>\n",
       "    .dataframe tbody tr th:only-of-type {\n",
       "        vertical-align: middle;\n",
       "    }\n",
       "\n",
       "    .dataframe tbody tr th {\n",
       "        vertical-align: top;\n",
       "    }\n",
       "\n",
       "    .dataframe thead th {\n",
       "        text-align: right;\n",
       "    }\n",
       "</style>\n",
       "<table border=\"1\" class=\"dataframe\">\n",
       "  <thead>\n",
       "    <tr style=\"text-align: right;\">\n",
       "      <th></th>\n",
       "      <th>Open</th>\n",
       "      <th>High</th>\n",
       "      <th>Low</th>\n",
       "      <th>Close</th>\n",
       "      <th>Volume</th>\n",
       "    </tr>\n",
       "    <tr>\n",
       "      <th>Date</th>\n",
       "      <th></th>\n",
       "      <th></th>\n",
       "      <th></th>\n",
       "      <th></th>\n",
       "      <th></th>\n",
       "    </tr>\n",
       "  </thead>\n",
       "  <tbody>\n",
       "    <tr>\n",
       "      <th>2012-01-03</th>\n",
       "      <td>325.25</td>\n",
       "      <td>332.83</td>\n",
       "      <td>324.97</td>\n",
       "      <td>663.59</td>\n",
       "      <td>73,80,500</td>\n",
       "    </tr>\n",
       "    <tr>\n",
       "      <th>2012-01-04</th>\n",
       "      <td>331.27</td>\n",
       "      <td>333.87</td>\n",
       "      <td>329.08</td>\n",
       "      <td>666.45</td>\n",
       "      <td>57,49,400</td>\n",
       "    </tr>\n",
       "    <tr>\n",
       "      <th>2012-01-05</th>\n",
       "      <td>329.83</td>\n",
       "      <td>330.75</td>\n",
       "      <td>326.89</td>\n",
       "      <td>657.21</td>\n",
       "      <td>65,90,300</td>\n",
       "    </tr>\n",
       "    <tr>\n",
       "      <th>2012-01-06</th>\n",
       "      <td>328.34</td>\n",
       "      <td>328.77</td>\n",
       "      <td>323.68</td>\n",
       "      <td>648.24</td>\n",
       "      <td>54,05,900</td>\n",
       "    </tr>\n",
       "    <tr>\n",
       "      <th>2012-01-09</th>\n",
       "      <td>322.04</td>\n",
       "      <td>322.29</td>\n",
       "      <td>309.46</td>\n",
       "      <td>620.76</td>\n",
       "      <td>1,16,88,800</td>\n",
       "    </tr>\n",
       "    <tr>\n",
       "      <th>2012-01-10</th>\n",
       "      <td>313.70</td>\n",
       "      <td>315.72</td>\n",
       "      <td>307.30</td>\n",
       "      <td>621.43</td>\n",
       "      <td>88,24,000</td>\n",
       "    </tr>\n",
       "    <tr>\n",
       "      <th>2012-01-11</th>\n",
       "      <td>310.59</td>\n",
       "      <td>313.52</td>\n",
       "      <td>309.40</td>\n",
       "      <td>624.25</td>\n",
       "      <td>48,17,800</td>\n",
       "    </tr>\n",
       "    <tr>\n",
       "      <th>2012-01-12</th>\n",
       "      <td>314.43</td>\n",
       "      <td>315.26</td>\n",
       "      <td>312.08</td>\n",
       "      <td>627.92</td>\n",
       "      <td>37,64,400</td>\n",
       "    </tr>\n",
       "    <tr>\n",
       "      <th>2012-01-13</th>\n",
       "      <td>311.96</td>\n",
       "      <td>312.30</td>\n",
       "      <td>309.37</td>\n",
       "      <td>623.28</td>\n",
       "      <td>46,31,800</td>\n",
       "    </tr>\n",
       "    <tr>\n",
       "      <th>2012-01-17</th>\n",
       "      <td>314.81</td>\n",
       "      <td>314.81</td>\n",
       "      <td>311.67</td>\n",
       "      <td>626.86</td>\n",
       "      <td>38,32,800</td>\n",
       "    </tr>\n",
       "  </tbody>\n",
       "</table>\n",
       "</div>"
      ],
      "text/plain": [
       "              Open    High     Low   Close       Volume\n",
       "Date                                                   \n",
       "2012-01-03  325.25  332.83  324.97  663.59    73,80,500\n",
       "2012-01-04  331.27  333.87  329.08  666.45    57,49,400\n",
       "2012-01-05  329.83  330.75  326.89  657.21    65,90,300\n",
       "2012-01-06  328.34  328.77  323.68  648.24    54,05,900\n",
       "2012-01-09  322.04  322.29  309.46  620.76  1,16,88,800\n",
       "2012-01-10  313.70  315.72  307.30  621.43    88,24,000\n",
       "2012-01-11  310.59  313.52  309.40  624.25    48,17,800\n",
       "2012-01-12  314.43  315.26  312.08  627.92    37,64,400\n",
       "2012-01-13  311.96  312.30  309.37  623.28    46,31,800\n",
       "2012-01-17  314.81  314.81  311.67  626.86    38,32,800"
      ]
     },
     "execution_count": 2,
     "metadata": {},
     "output_type": "execute_result"
    }
   ],
   "source": [
    "path='./Data/Google_Stock_Price_Train.csv'\n",
    "stock_data = pd.read_csv(path,index_col=\"Date\",parse_dates=True)\n",
    "stock_data.head(10)"
   ]
  },
  {
   "cell_type": "code",
   "execution_count": 3,
   "id": "9297a61e",
   "metadata": {},
   "outputs": [
    {
     "data": {
      "text/html": [
       "<div>\n",
       "<style scoped>\n",
       "    .dataframe tbody tr th:only-of-type {\n",
       "        vertical-align: middle;\n",
       "    }\n",
       "\n",
       "    .dataframe tbody tr th {\n",
       "        vertical-align: top;\n",
       "    }\n",
       "\n",
       "    .dataframe thead th {\n",
       "        text-align: right;\n",
       "    }\n",
       "</style>\n",
       "<table border=\"1\" class=\"dataframe\">\n",
       "  <thead>\n",
       "    <tr style=\"text-align: right;\">\n",
       "      <th></th>\n",
       "      <th>Open</th>\n",
       "      <th>High</th>\n",
       "      <th>Low</th>\n",
       "      <th>Close</th>\n",
       "      <th>Volume</th>\n",
       "    </tr>\n",
       "    <tr>\n",
       "      <th>Date</th>\n",
       "      <th></th>\n",
       "      <th></th>\n",
       "      <th></th>\n",
       "      <th></th>\n",
       "      <th></th>\n",
       "    </tr>\n",
       "  </thead>\n",
       "  <tbody>\n",
       "    <tr>\n",
       "      <th>2016-12-23</th>\n",
       "      <td>790.90</td>\n",
       "      <td>792.74</td>\n",
       "      <td>787.28</td>\n",
       "      <td>789.91</td>\n",
       "      <td>6,23,400</td>\n",
       "    </tr>\n",
       "    <tr>\n",
       "      <th>2016-12-27</th>\n",
       "      <td>790.68</td>\n",
       "      <td>797.86</td>\n",
       "      <td>787.66</td>\n",
       "      <td>791.55</td>\n",
       "      <td>7,89,100</td>\n",
       "    </tr>\n",
       "    <tr>\n",
       "      <th>2016-12-28</th>\n",
       "      <td>793.70</td>\n",
       "      <td>794.23</td>\n",
       "      <td>783.20</td>\n",
       "      <td>785.05</td>\n",
       "      <td>11,53,800</td>\n",
       "    </tr>\n",
       "    <tr>\n",
       "      <th>2016-12-29</th>\n",
       "      <td>783.33</td>\n",
       "      <td>785.93</td>\n",
       "      <td>778.92</td>\n",
       "      <td>782.79</td>\n",
       "      <td>7,44,300</td>\n",
       "    </tr>\n",
       "    <tr>\n",
       "      <th>2016-12-30</th>\n",
       "      <td>782.75</td>\n",
       "      <td>782.78</td>\n",
       "      <td>770.41</td>\n",
       "      <td>771.82</td>\n",
       "      <td>17,70,000</td>\n",
       "    </tr>\n",
       "  </tbody>\n",
       "</table>\n",
       "</div>"
      ],
      "text/plain": [
       "              Open    High     Low   Close     Volume\n",
       "Date                                                 \n",
       "2016-12-23  790.90  792.74  787.28  789.91   6,23,400\n",
       "2016-12-27  790.68  797.86  787.66  791.55   7,89,100\n",
       "2016-12-28  793.70  794.23  783.20  785.05  11,53,800\n",
       "2016-12-29  783.33  785.93  778.92  782.79   7,44,300\n",
       "2016-12-30  782.75  782.78  770.41  771.82  17,70,000"
      ]
     },
     "execution_count": 3,
     "metadata": {},
     "output_type": "execute_result"
    }
   ],
   "source": [
    "stock_data.tail()"
   ]
  },
  {
   "cell_type": "markdown",
   "id": "d25c0647",
   "metadata": {},
   "source": [
    "<h2>Data Pre-processing</h2>"
   ]
  },
  {
   "cell_type": "code",
   "execution_count": 4,
   "id": "cbd98c60",
   "metadata": {},
   "outputs": [
    {
     "data": {
      "text/plain": [
       "(1258, 5)"
      ]
     },
     "execution_count": 4,
     "metadata": {},
     "output_type": "execute_result"
    }
   ],
   "source": [
    "#shape of data\n",
    "stock_data.shape"
   ]
  },
  {
   "cell_type": "code",
   "execution_count": 5,
   "id": "c4244192",
   "metadata": {},
   "outputs": [
    {
     "data": {
      "text/html": [
       "<div>\n",
       "<style scoped>\n",
       "    .dataframe tbody tr th:only-of-type {\n",
       "        vertical-align: middle;\n",
       "    }\n",
       "\n",
       "    .dataframe tbody tr th {\n",
       "        vertical-align: top;\n",
       "    }\n",
       "\n",
       "    .dataframe thead th {\n",
       "        text-align: right;\n",
       "    }\n",
       "</style>\n",
       "<table border=\"1\" class=\"dataframe\">\n",
       "  <thead>\n",
       "    <tr style=\"text-align: right;\">\n",
       "      <th></th>\n",
       "      <th>Open</th>\n",
       "      <th>High</th>\n",
       "      <th>Low</th>\n",
       "      <th>Close</th>\n",
       "      <th>Volume</th>\n",
       "    </tr>\n",
       "    <tr>\n",
       "      <th>Date</th>\n",
       "      <th></th>\n",
       "      <th></th>\n",
       "      <th></th>\n",
       "      <th></th>\n",
       "      <th></th>\n",
       "    </tr>\n",
       "  </thead>\n",
       "  <tbody>\n",
       "    <tr>\n",
       "      <th>2012-01-03</th>\n",
       "      <td>325.25</td>\n",
       "      <td>332.83</td>\n",
       "      <td>324.97</td>\n",
       "      <td>663.59</td>\n",
       "      <td>73,80,500</td>\n",
       "    </tr>\n",
       "    <tr>\n",
       "      <th>2012-01-04</th>\n",
       "      <td>331.27</td>\n",
       "      <td>333.87</td>\n",
       "      <td>329.08</td>\n",
       "      <td>666.45</td>\n",
       "      <td>57,49,400</td>\n",
       "    </tr>\n",
       "    <tr>\n",
       "      <th>2012-01-05</th>\n",
       "      <td>329.83</td>\n",
       "      <td>330.75</td>\n",
       "      <td>326.89</td>\n",
       "      <td>657.21</td>\n",
       "      <td>65,90,300</td>\n",
       "    </tr>\n",
       "    <tr>\n",
       "      <th>2012-01-06</th>\n",
       "      <td>328.34</td>\n",
       "      <td>328.77</td>\n",
       "      <td>323.68</td>\n",
       "      <td>648.24</td>\n",
       "      <td>54,05,900</td>\n",
       "    </tr>\n",
       "    <tr>\n",
       "      <th>2012-01-09</th>\n",
       "      <td>322.04</td>\n",
       "      <td>322.29</td>\n",
       "      <td>309.46</td>\n",
       "      <td>620.76</td>\n",
       "      <td>1,16,88,800</td>\n",
       "    </tr>\n",
       "  </tbody>\n",
       "</table>\n",
       "</div>"
      ],
      "text/plain": [
       "              Open    High     Low   Close       Volume\n",
       "Date                                                   \n",
       "2012-01-03  325.25  332.83  324.97  663.59    73,80,500\n",
       "2012-01-04  331.27  333.87  329.08  666.45    57,49,400\n",
       "2012-01-05  329.83  330.75  326.89  657.21    65,90,300\n",
       "2012-01-06  328.34  328.77  323.68  648.24    54,05,900\n",
       "2012-01-09  322.04  322.29  309.46  620.76  1,16,88,800"
      ]
     },
     "execution_count": 5,
     "metadata": {},
     "output_type": "execute_result"
    }
   ],
   "source": [
    "stock_data.head()"
   ]
  },
  {
   "cell_type": "code",
   "execution_count": 6,
   "id": "ac1c18ce",
   "metadata": {},
   "outputs": [
    {
     "data": {
      "text/plain": [
       "Open      False\n",
       "High      False\n",
       "Low       False\n",
       "Close     False\n",
       "Volume    False\n",
       "dtype: bool"
      ]
     },
     "execution_count": 6,
     "metadata": {},
     "output_type": "execute_result"
    }
   ],
   "source": [
    "stock_data.isnull().sum()\n",
    "stock_data.isna().any()\n",
    "#no nan or missing data hence data is cleaned"
   ]
  },
  {
   "cell_type": "code",
   "execution_count": 7,
   "id": "65d5c2f4",
   "metadata": {},
   "outputs": [
    {
     "name": "stdout",
     "output_type": "stream",
     "text": [
      "<class 'pandas.core.frame.DataFrame'>\n",
      "DatetimeIndex: 1258 entries, 2012-01-03 to 2016-12-30\n",
      "Data columns (total 5 columns):\n",
      " #   Column  Non-Null Count  Dtype  \n",
      "---  ------  --------------  -----  \n",
      " 0   Open    1258 non-null   float64\n",
      " 1   High    1258 non-null   float64\n",
      " 2   Low     1258 non-null   float64\n",
      " 3   Close   1258 non-null   object \n",
      " 4   Volume  1258 non-null   object \n",
      "dtypes: float64(3), object(2)\n",
      "memory usage: 59.0+ KB\n"
     ]
    }
   ],
   "source": [
    "stock_data.info()"
   ]
  },
  {
   "cell_type": "code",
   "execution_count": 8,
   "id": "df2f00f2",
   "metadata": {},
   "outputs": [],
   "source": [
    "stock_data['Close'] = stock_data['Close'].str.replace(',','').astype(float)"
   ]
  },
  {
   "cell_type": "code",
   "execution_count": 9,
   "id": "d295cbba",
   "metadata": {},
   "outputs": [],
   "source": [
    "stock_data['Volume'] = stock_data['Volume'].str.replace(',','').astype(float)"
   ]
  },
  {
   "cell_type": "code",
   "execution_count": 10,
   "id": "ae666677",
   "metadata": {},
   "outputs": [
    {
     "data": {
      "image/png": "[encoded data removed]",
      "text/plain": [
       "<Figure size 1152x432 with 1 Axes>"
      ]
     },
     "metadata": {
      "needs_background": "light"
     },
     "output_type": "display_data"
    }
   ],
   "source": [
    "stock_data['Open'].plot(figsize=(16,6))\n",
    "plt.title('Growth of stocks from 2012 to 2017')\n",
    "plt.show()"
   ]
  },
  {
   "cell_type": "code",
   "execution_count": 11,
   "id": "778d54a3",
   "metadata": {},
   "outputs": [
    {
     "data": {
      "text/html": [
       "<div>\n",
       "<style scoped>\n",
       "    .dataframe tbody tr th:only-of-type {\n",
       "        vertical-align: middle;\n",
       "    }\n",
       "\n",
       "    .dataframe tbody tr th {\n",
       "        vertical-align: top;\n",
       "    }\n",
       "\n",
       "    .dataframe thead th {\n",
       "        text-align: right;\n",
       "    }\n",
       "</style>\n",
       "<table border=\"1\" class=\"dataframe\">\n",
       "  <thead>\n",
       "    <tr style=\"text-align: right;\">\n",
       "      <th></th>\n",
       "      <th>Open</th>\n",
       "      <th>High</th>\n",
       "      <th>Low</th>\n",
       "      <th>Close</th>\n",
       "      <th>Volume</th>\n",
       "    </tr>\n",
       "    <tr>\n",
       "      <th>Date</th>\n",
       "      <th></th>\n",
       "      <th></th>\n",
       "      <th></th>\n",
       "      <th></th>\n",
       "      <th></th>\n",
       "    </tr>\n",
       "  </thead>\n",
       "  <tbody>\n",
       "    <tr>\n",
       "      <th>2012-01-03</th>\n",
       "      <td>NaN</td>\n",
       "      <td>NaN</td>\n",
       "      <td>NaN</td>\n",
       "      <td>NaN</td>\n",
       "      <td>NaN</td>\n",
       "    </tr>\n",
       "    <tr>\n",
       "      <th>2012-01-04</th>\n",
       "      <td>NaN</td>\n",
       "      <td>NaN</td>\n",
       "      <td>NaN</td>\n",
       "      <td>NaN</td>\n",
       "      <td>NaN</td>\n",
       "    </tr>\n",
       "    <tr>\n",
       "      <th>2012-01-05</th>\n",
       "      <td>NaN</td>\n",
       "      <td>NaN</td>\n",
       "      <td>NaN</td>\n",
       "      <td>NaN</td>\n",
       "      <td>NaN</td>\n",
       "    </tr>\n",
       "    <tr>\n",
       "      <th>2012-01-06</th>\n",
       "      <td>NaN</td>\n",
       "      <td>NaN</td>\n",
       "      <td>NaN</td>\n",
       "      <td>NaN</td>\n",
       "      <td>NaN</td>\n",
       "    </tr>\n",
       "    <tr>\n",
       "      <th>2012-01-09</th>\n",
       "      <td>NaN</td>\n",
       "      <td>NaN</td>\n",
       "      <td>NaN</td>\n",
       "      <td>NaN</td>\n",
       "      <td>NaN</td>\n",
       "    </tr>\n",
       "    <tr>\n",
       "      <th>2012-01-10</th>\n",
       "      <td>NaN</td>\n",
       "      <td>NaN</td>\n",
       "      <td>NaN</td>\n",
       "      <td>NaN</td>\n",
       "      <td>NaN</td>\n",
       "    </tr>\n",
       "    <tr>\n",
       "      <th>2012-01-11</th>\n",
       "      <td>323.002857</td>\n",
       "      <td>325.392857</td>\n",
       "      <td>318.682857</td>\n",
       "      <td>643.132857</td>\n",
       "      <td>7.208100e+06</td>\n",
       "    </tr>\n",
       "    <tr>\n",
       "      <th>2012-01-12</th>\n",
       "      <td>321.457143</td>\n",
       "      <td>322.882857</td>\n",
       "      <td>316.841429</td>\n",
       "      <td>638.037143</td>\n",
       "      <td>6.691514e+06</td>\n",
       "    </tr>\n",
       "    <tr>\n",
       "      <th>2012-01-13</th>\n",
       "      <td>318.698571</td>\n",
       "      <td>319.801429</td>\n",
       "      <td>314.025714</td>\n",
       "      <td>631.870000</td>\n",
       "      <td>6.531857e+06</td>\n",
       "    </tr>\n",
       "    <tr>\n",
       "      <th>2012-01-17</th>\n",
       "      <td>316.552857</td>\n",
       "      <td>317.524286</td>\n",
       "      <td>311.851429</td>\n",
       "      <td>627.534286</td>\n",
       "      <td>6.137929e+06</td>\n",
       "    </tr>\n",
       "    <tr>\n",
       "      <th>2012-01-18</th>\n",
       "      <td>314.238571</td>\n",
       "      <td>315.674286</td>\n",
       "      <td>309.882857</td>\n",
       "      <td>625.097143</td>\n",
       "      <td>6.157657e+06</td>\n",
       "    </tr>\n",
       "    <tr>\n",
       "      <th>2012-01-19</th>\n",
       "      <td>313.847143</td>\n",
       "      <td>315.247143</td>\n",
       "      <td>310.610000</td>\n",
       "      <td>627.534286</td>\n",
       "      <td>6.296086e+06</td>\n",
       "    </tr>\n",
       "    <tr>\n",
       "      <th>2012-01-20</th>\n",
       "      <td>311.055714</td>\n",
       "      <td>312.201429</td>\n",
       "      <td>308.104286</td>\n",
       "      <td>622.242857</td>\n",
       "      <td>8.068629e+06</td>\n",
       "    </tr>\n",
       "    <tr>\n",
       "      <th>2012-01-23</th>\n",
       "      <td>308.387143</td>\n",
       "      <td>309.302857</td>\n",
       "      <td>305.402857</td>\n",
       "      <td>616.481429</td>\n",
       "      <td>8.359129e+06</td>\n",
       "    </tr>\n",
       "    <tr>\n",
       "      <th>2012-01-24</th>\n",
       "      <td>305.192857</td>\n",
       "      <td>306.085714</td>\n",
       "      <td>301.951429</td>\n",
       "      <td>609.541429</td>\n",
       "      <td>8.697700e+06</td>\n",
       "    </tr>\n",
       "    <tr>\n",
       "      <th>2012-01-25</th>\n",
       "      <td>301.724286</td>\n",
       "      <td>302.652857</td>\n",
       "      <td>298.060000</td>\n",
       "      <td>601.634286</td>\n",
       "      <td>9.466400e+06</td>\n",
       "    </tr>\n",
       "    <tr>\n",
       "      <th>2012-01-26</th>\n",
       "      <td>297.454286</td>\n",
       "      <td>298.561429</td>\n",
       "      <td>293.710000</td>\n",
       "      <td>593.017143</td>\n",
       "      <td>9.844071e+06</td>\n",
       "    </tr>\n",
       "    <tr>\n",
       "      <th>2012-01-27</th>\n",
       "      <td>293.480000</td>\n",
       "      <td>294.741429</td>\n",
       "      <td>289.952857</td>\n",
       "      <td>585.475714</td>\n",
       "      <td>1.008950e+07</td>\n",
       "    </tr>\n",
       "    <tr>\n",
       "      <th>2012-01-30</th>\n",
       "      <td>289.001429</td>\n",
       "      <td>290.401429</td>\n",
       "      <td>285.821429</td>\n",
       "      <td>576.660000</td>\n",
       "      <td>8.949586e+06</td>\n",
       "    </tr>\n",
       "    <tr>\n",
       "      <th>2012-01-31</th>\n",
       "      <td>288.465714</td>\n",
       "      <td>289.902857</td>\n",
       "      <td>285.355714</td>\n",
       "      <td>575.821429</td>\n",
       "      <td>6.530857e+06</td>\n",
       "    </tr>\n",
       "  </tbody>\n",
       "</table>\n",
       "</div>"
      ],
      "text/plain": [
       "                  Open        High         Low       Close        Volume\n",
       "Date                                                                    \n",
       "2012-01-03         NaN         NaN         NaN         NaN           NaN\n",
       "2012-01-04         NaN         NaN         NaN         NaN           NaN\n",
       "2012-01-05         NaN         NaN         NaN         NaN           NaN\n",
       "2012-01-06         NaN         NaN         NaN         NaN           NaN\n",
       "2012-01-09         NaN         NaN         NaN         NaN           NaN\n",
       "2012-01-10         NaN         NaN         NaN         NaN           NaN\n",
       "2012-01-11  323.002857  325.392857  318.682857  643.132857  7.208100e+06\n",
       "2012-01-12  321.457143  322.882857  316.841429  638.037143  6.691514e+06\n",
       "2012-01-13  318.698571  319.801429  314.025714  631.870000  6.531857e+06\n",
       "2012-01-17  316.552857  317.524286  311.851429  627.534286  6.137929e+06\n",
       "2012-01-18  314.238571  315.674286  309.882857  625.097143  6.157657e+06\n",
       "2012-01-19  313.847143  315.247143  310.610000  627.534286  6.296086e+06\n",
       "2012-01-20  311.055714  312.201429  308.104286  622.242857  8.068629e+06\n",
       "2012-01-23  308.387143  309.302857  305.402857  616.481429  8.359129e+06\n",
       "2012-01-24  305.192857  306.085714  301.951429  609.541429  8.697700e+06\n",
       "2012-01-25  301.724286  302.652857  298.060000  601.634286  9.466400e+06\n",
       "2012-01-26  297.454286  298.561429  293.710000  593.017143  9.844071e+06\n",
       "2012-01-27  293.480000  294.741429  289.952857  585.475714  1.008950e+07\n",
       "2012-01-30  289.001429  290.401429  285.821429  576.660000  8.949586e+06\n",
       "2012-01-31  288.465714  289.902857  285.355714  575.821429  6.530857e+06"
      ]
     },
     "execution_count": 11,
     "metadata": {},
     "output_type": "execute_result"
    }
   ],
   "source": [
    "#7 days rolling mean\n",
    "stock_data.rolling(7).mean().head(20)"
   ]
  },
  {
   "cell_type": "code",
   "execution_count": 12,
   "id": "a1587354",
   "metadata": {},
   "outputs": [
    {
     "data": {
      "image/png": "[encoded data removed]",
      "text/plain": [
       "<Figure size 432x288 with 1 Axes>"
      ]
     },
     "metadata": {
      "needs_background": "light"
     },
     "output_type": "display_data"
    }
   ],
   "source": [
    "stock_data['Open'].plot()\n",
    "stock_data.rolling(window=30).mean()['Close'].plot()\n",
    "plt.title(\"Comparing rolling mean and growth\")\n",
    "plt.show()"
   ]
  },
  {
   "cell_type": "code",
   "execution_count": 13,
   "id": "79b4ada0",
   "metadata": {},
   "outputs": [
    {
     "data": {
      "image/png": "[encoded data removed]",
      "text/plain": [
       "<Figure size 1152x432 with 1 Axes>"
      ]
     },
     "metadata": {
      "needs_background": "light"
     },
     "output_type": "display_data"
    }
   ],
   "source": [
    "stock_data['Close:30 Day mean']=stock_data['Close'].rolling(window=30).mean()\n",
    "stock_data[['Close','Close:30 Day mean']].plot(figsize=(16,6))\n",
    "plt.show()"
   ]
  },
  {
   "cell_type": "code",
   "execution_count": 14,
   "id": "8edae392",
   "metadata": {},
   "outputs": [
    {
     "data": {
      "image/png": "[encoded data removed]",
      "text/plain": [
       "<Figure size 432x288 with 1 Axes>"
      ]
     },
     "metadata": {
      "needs_background": "light"
     },
     "output_type": "display_data"
    }
   ],
   "source": [
    "stock_data['Close'].expanding(min_periods=1).mean().plot()\n",
    "plt.show()"
   ]
  },
  {
   "cell_type": "code",
   "execution_count": 15,
   "id": "8fbb8ef8",
   "metadata": {},
   "outputs": [],
   "source": [
    "training_data= stock_data['Open']\n",
    "training_data=pd.DataFrame(training_data)"
   ]
  },
  {
   "cell_type": "code",
   "execution_count": 16,
   "id": "c0a63013",
   "metadata": {},
   "outputs": [],
   "source": [
    "from sklearn.preprocessing import MinMaxScaler"
   ]
  },
  {
   "cell_type": "code",
   "execution_count": 17,
   "id": "1acf22b7",
   "metadata": {},
   "outputs": [],
   "source": [
    "sc=MinMaxScaler(feature_range=(0,1))\n",
    "training_data_scaled=sc.fit_transform(training_data)"
   ]
  },
  {
   "cell_type": "code",
   "execution_count": 18,
   "id": "e9827336",
   "metadata": {},
   "outputs": [],
   "source": [
    "#60 times and one output\n",
    "X_train = []\n",
    "Y_train = []\n",
    "for i in range(60,1235):\n",
    "    X_train.append(training_data_scaled[i-60:i,0])\n",
    "    Y_train.append(training_data_scaled[i,0])\n",
    "X_train,Y_train=np.array(X_train),np.array(Y_train)\n",
    "#reshaping\n",
    "X_train=np.reshape(X_train,(X_train.shape[0],X_train.shape[1],1))\n",
    "# X_train.shape"
   ]
  },
  {
   "cell_type": "markdown",
   "id": "b0e3f459",
   "metadata": {},
   "source": [
    "<h2>Building RNN </h2>"
   ]
  },
  {
   "cell_type": "code",
   "execution_count": 19,
   "id": "1f02fb7f",
   "metadata": {},
   "outputs": [],
   "source": [
    "#Building RNN\n",
    "from keras.models import Sequential\n",
    "from keras.layers import Dense\n",
    "from keras.layers import LSTM\n",
    "from keras.layers import Dropout"
   ]
  },
  {
   "cell_type": "code",
   "execution_count": 20,
   "id": "1171788b",
   "metadata": {},
   "outputs": [],
   "source": [
    "regression = Sequential()"
   ]
  },
  {
   "cell_type": "code",
   "execution_count": 21,
   "id": "a7628bae",
   "metadata": {},
   "outputs": [],
   "source": [
    "#Adding the first layer and some Dropout regularisation\n",
    "regression.add(LSTM(units=50,return_sequences=True ,input_shape=(X_train.shape[1],1)))\n",
    "regression.add(Dropout(0.2))\n",
    "\n",
    "#Adding the second layer and some Dropout regularisation\n",
    "regression.add(LSTM(units=50,return_sequences=True ))\n",
    "regression.add(Dropout(0.2))\n",
    "\n",
    "#Adding the third layer and some Dropout regularisation\n",
    "regression.add(LSTM(units=50,return_sequences=True ))\n",
    "regression.add(Dropout(0.2))\n",
    "\n",
    "#Adding the third layer and some Dropout regularisation\n",
    "regression.add(LSTM(units=50))\n",
    "regression.add(Dropout(0.2))\n",
    "\n",
    "#Adding output layer\n",
    "regression.add(Dense(units=1))"
   ]
  },
  {
   "cell_type": "markdown",
   "id": "a055a465",
   "metadata": {},
   "source": [
    "<h2>Training RNN</h2>"
   ]
  },
  {
   "cell_type": "code",
   "execution_count": 22,
   "id": "b5e33fbe",
   "metadata": {},
   "outputs": [
    {
     "name": "stdout",
     "output_type": "stream",
     "text": [
      "Epoch 1/100\n",
      "37/37 [==============================] - 53s 117ms/step - loss: 0.0941\n",
      "Epoch 2/100\n",
      "37/37 [==============================] - 4s 121ms/step - loss: 0.0081\n",
      "Epoch 3/100\n",
      "37/37 [==============================] - 4s 107ms/step - loss: 0.0050 0s - los\n",
      "Epoch 4/100\n",
      "37/37 [==============================] - 4s 106ms/step - loss: 0.0048\n",
      "Epoch 5/100\n",
      "37/37 [==============================] - 4s 105ms/step - loss: 0.0053\n",
      "Epoch 6/100\n",
      "37/37 [==============================] - 4s 105ms/step - loss: 0.0051\n",
      "Epoch 7/100\n",
      "37/37 [==============================] - 4s 104ms/step - loss: 0.0045\n",
      "Epoch 8/100\n",
      "37/37 [==============================] - 4s 103ms/step - loss: 0.0046\n",
      "Epoch 9/100\n",
      "37/37 [==============================] - 4s 108ms/step - loss: 0.0045\n",
      "Epoch 10/100\n",
      "37/37 [==============================] - 4s 111ms/step - loss: 0.0043\n",
      "Epoch 11/100\n",
      "37/37 [==============================] - 4s 109ms/step - loss: 0.0049\n",
      "Epoch 12/100\n",
      "37/37 [==============================] - 4s 107ms/step - loss: 0.0041\n",
      "Epoch 13/100\n",
      "37/37 [==============================] - 4s 111ms/step - loss: 0.0039\n",
      "Epoch 14/100\n",
      "37/37 [==============================] - 4s 108ms/step - loss: 0.0034\n",
      "Epoch 15/100\n",
      "37/37 [==============================] - 4s 112ms/step - loss: 0.0035\n",
      "Epoch 16/100\n",
      "37/37 [==============================] - 4s 111ms/step - loss: 0.0039\n",
      "Epoch 17/100\n",
      "37/37 [==============================] - 4s 112ms/step - loss: 0.0036\n",
      "Epoch 18/100\n",
      "37/37 [==============================] - 4s 112ms/step - loss: 0.0034\n",
      "Epoch 19/100\n",
      "37/37 [==============================] - 4s 105ms/step - loss: 0.0041\n",
      "Epoch 20/100\n",
      "37/37 [==============================] - 4s 112ms/step - loss: 0.0043\n",
      "Epoch 21/100\n",
      "37/37 [==============================] - 4s 116ms/step - loss: 0.0045\n",
      "Epoch 22/100\n",
      "37/37 [==============================] - 4s 109ms/step - loss: 0.0034\n",
      "Epoch 23/100\n",
      "37/37 [==============================] - 4s 106ms/step - loss: 0.0034\n",
      "Epoch 24/100\n",
      "37/37 [==============================] - 4s 107ms/step - loss: 0.0036\n",
      "Epoch 25/100\n",
      "37/37 [==============================] - 4s 116ms/step - loss: 0.0032\n",
      "Epoch 26/100\n",
      "37/37 [==============================] - 4s 110ms/step - loss: 0.0035\n",
      "Epoch 27/100\n",
      "37/37 [==============================] - 4s 108ms/step - loss: 0.0028\n",
      "Epoch 28/100\n",
      "37/37 [==============================] - 4s 118ms/step - loss: 0.0027\n",
      "Epoch 29/100\n",
      "37/37 [==============================] - 4s 108ms/step - loss: 0.0030\n",
      "Epoch 30/100\n",
      "37/37 [==============================] - 4s 116ms/step - loss: 0.0027\n",
      "Epoch 31/100\n",
      "37/37 [==============================] - 4s 109ms/step - loss: 0.0029\n",
      "Epoch 32/100\n",
      "37/37 [==============================] - 4s 114ms/step - loss: 0.0026\n",
      "Epoch 33/100\n",
      "37/37 [==============================] - 4s 114ms/step - loss: 0.0027\n",
      "Epoch 34/100\n",
      "37/37 [==============================] - 4s 108ms/step - loss: 0.0025\n",
      "Epoch 35/100\n",
      "37/37 [==============================] - 4s 114ms/step - loss: 0.0027\n",
      "Epoch 36/100\n",
      "37/37 [==============================] - 4s 108ms/step - loss: 0.0026\n",
      "Epoch 37/100\n",
      "37/37 [==============================] - 4s 112ms/step - loss: 0.0026\n",
      "Epoch 38/100\n",
      "37/37 [==============================] - 4s 112ms/step - loss: 0.0028\n",
      "Epoch 39/100\n",
      "37/37 [==============================] - 4s 113ms/step - loss: 0.0026\n",
      "Epoch 40/100\n",
      "37/37 [==============================] - 4s 110ms/step - loss: 0.0024\n",
      "Epoch 41/100\n",
      "37/37 [==============================] - 4s 111ms/step - loss: 0.0027\n",
      "Epoch 42/100\n",
      "37/37 [==============================] - 4s 117ms/step - loss: 0.0024\n",
      "Epoch 43/100\n",
      "37/37 [==============================] - 4s 112ms/step - loss: 0.0023\n",
      "Epoch 44/100\n",
      "37/37 [==============================] - 4s 117ms/step - loss: 0.0030\n",
      "Epoch 45/100\n",
      "37/37 [==============================] - 4s 111ms/step - loss: 0.0022\n",
      "Epoch 46/100\n",
      "37/37 [==============================] - 4s 113ms/step - loss: 0.0030\n",
      "Epoch 47/100\n",
      "37/37 [==============================] - 4s 112ms/step - loss: 0.0027\n",
      "Epoch 48/100\n",
      "37/37 [==============================] - 4s 113ms/step - loss: 0.0022\n",
      "Epoch 49/100\n",
      "37/37 [==============================] - 4s 112ms/step - loss: 0.0025\n",
      "Epoch 50/100\n",
      "37/37 [==============================] - 4s 113ms/step - loss: 0.0021\n",
      "Epoch 51/100\n",
      "37/37 [==============================] - 4s 114ms/step - loss: 0.0028\n",
      "Epoch 52/100\n",
      "37/37 [==============================] - 4s 116ms/step - loss: 0.0023\n",
      "Epoch 53/100\n",
      "37/37 [==============================] - 4s 118ms/step - loss: 0.0023\n",
      "Epoch 54/100\n",
      "37/37 [==============================] - 4s 117ms/step - loss: 0.0025\n",
      "Epoch 55/100\n",
      "37/37 [==============================] - 4s 114ms/step - loss: 0.0022\n",
      "Epoch 56/100\n",
      "37/37 [==============================] - 4s 112ms/step - loss: 0.0020\n",
      "Epoch 57/100\n",
      "37/37 [==============================] - 4s 113ms/step - loss: 0.0020\n",
      "Epoch 58/100\n",
      "37/37 [==============================] - 4s 114ms/step - loss: 0.0016\n",
      "Epoch 59/100\n",
      "37/37 [==============================] - 4s 114ms/step - loss: 0.0024\n",
      "Epoch 60/100\n",
      "37/37 [==============================] - 4s 109ms/step - loss: 0.0021\n",
      "Epoch 61/100\n",
      "37/37 [==============================] - 4s 109ms/step - loss: 0.0019\n",
      "Epoch 62/100\n",
      "37/37 [==============================] - 4s 111ms/step - loss: 0.0021\n",
      "Epoch 63/100\n",
      "37/37 [==============================] - 4s 117ms/step - loss: 0.0020\n",
      "Epoch 64/100\n",
      "37/37 [==============================] - 4s 116ms/step - loss: 0.0020\n",
      "Epoch 65/100\n",
      "37/37 [==============================] - 4s 115ms/step - loss: 0.0022\n",
      "Epoch 66/100\n",
      "37/37 [==============================] - 4s 114ms/step - loss: 0.0016\n",
      "Epoch 67/100\n",
      "37/37 [==============================] - 4s 111ms/step - loss: 0.0016\n",
      "Epoch 68/100\n",
      "37/37 [==============================] - 4s 114ms/step - loss: 0.0023\n",
      "Epoch 69/100\n",
      "37/37 [==============================] - 4s 114ms/step - loss: 0.0020\n",
      "Epoch 70/100\n",
      "37/37 [==============================] - 4s 116ms/step - loss: 0.0020\n",
      "Epoch 71/100\n",
      "37/37 [==============================] - 4s 113ms/step - loss: 0.0019 \n",
      "Epoch 72/100\n",
      "37/37 [==============================] - 4s 112ms/step - loss: 0.0017\n",
      "Epoch 73/100\n",
      "37/37 [==============================] - 4s 109ms/step - loss: 0.0019\n",
      "Epoch 74/100\n",
      "37/37 [==============================] - 4s 115ms/step - loss: 0.0014\n",
      "Epoch 75/100\n",
      "37/37 [==============================] - 4s 114ms/step - loss: 0.0019\n",
      "Epoch 76/100\n",
      "37/37 [==============================] - 4s 117ms/step - loss: 0.0017\n",
      "Epoch 77/100\n",
      "37/37 [==============================] - 4s 115ms/step - loss: 0.0017\n",
      "Epoch 78/100\n",
      "37/37 [==============================] - 4s 117ms/step - loss: 0.0016\n",
      "Epoch 79/100\n",
      "37/37 [==============================] - 4s 112ms/step - loss: 0.0017\n",
      "Epoch 80/100\n",
      "37/37 [==============================] - 4s 110ms/step - loss: 0.0019\n",
      "Epoch 81/100\n",
      "37/37 [==============================] - 4s 113ms/step - loss: 0.0015\n",
      "Epoch 82/100\n",
      "37/37 [==============================] - 4s 110ms/step - loss: 0.0015\n",
      "Epoch 83/100\n",
      "37/37 [==============================] - 4s 115ms/step - loss: 0.0017\n",
      "Epoch 84/100\n",
      "37/37 [==============================] - 4s 112ms/step - loss: 0.0016\n",
      "Epoch 85/100\n",
      "37/37 [==============================] - 4s 113ms/step - loss: 0.0016\n",
      "Epoch 86/100\n",
      "37/37 [==============================] - 4s 111ms/step - loss: 0.0015\n",
      "Epoch 87/100\n",
      "37/37 [==============================] - 4s 109ms/step - loss: 0.0018\n",
      "Epoch 88/100\n",
      "37/37 [==============================] - 4s 108ms/step - loss: 0.0015\n",
      "Epoch 89/100\n",
      "37/37 [==============================] - 4s 105ms/step - loss: 0.0016 1s - l\n",
      "Epoch 90/100\n",
      "37/37 [==============================] - 4s 107ms/step - loss: 0.0015\n",
      "Epoch 91/100\n",
      "37/37 [==============================] - 4s 111ms/step - loss: 0.0013\n",
      "Epoch 92/100\n",
      "37/37 [==============================] - 4s 109ms/step - loss: 0.0016\n",
      "Epoch 93/100\n",
      "37/37 [==============================] - 4s 108ms/step - loss: 0.0018\n",
      "Epoch 94/100\n",
      "37/37 [==============================] - 4s 108ms/step - loss: 0.0016\n",
      "Epoch 95/100\n",
      "37/37 [==============================] - 4s 107ms/step - loss: 0.0015\n",
      "Epoch 96/100\n",
      "37/37 [==============================] - 4s 109ms/step - loss: 0.0017\n",
      "Epoch 97/100\n",
      "37/37 [==============================] - 4s 112ms/step - loss: 0.0016\n",
      "Epoch 98/100\n",
      "37/37 [==============================] - 4s 113ms/step - loss: 0.0016\n",
      "Epoch 99/100\n"
     ]
    },
    {
     "name": "stdout",
     "output_type": "stream",
     "text": [
      "37/37 [==============================] - 4s 109ms/step - loss: 0.0017\n",
      "Epoch 100/100\n",
      "37/37 [==============================] - 4s 106ms/step - loss: 0.0017\n"
     ]
    },
    {
     "data": {
      "text/plain": [
       "<keras.callbacks.History at 0x22e61cb1bb0>"
      ]
     },
     "execution_count": 22,
     "metadata": {},
     "output_type": "execute_result"
    }
   ],
   "source": [
    "#compiling the rnn\n",
    "regression.compile(optimizer='adam',loss='mean_squared_error')\n",
    "\n",
    "#fitting the rnn into Training set\n",
    "regression.fit(X_train,Y_train,epochs=100,batch_size=32)"
   ]
  },
  {
   "cell_type": "markdown",
   "id": "0c4e1609",
   "metadata": {},
   "source": [
    "<h2>Testing RNN</h2>"
   ]
  },
  {
   "cell_type": "code",
   "execution_count": 24,
   "id": "73bc10ac",
   "metadata": {},
   "outputs": [],
   "source": [
    "test_data = pd.read_csv('./Data/Google_Stock_Price_Test.csv',index_col=\"Date\",parse_dates=True)"
   ]
  },
  {
   "cell_type": "code",
   "execution_count": 25,
   "id": "006b24c9",
   "metadata": {},
   "outputs": [
    {
     "data": {
      "text/plain": [
       "array([[789.63],\n",
       "       [791.34],\n",
       "       [794.48],\n",
       "       [807.9 ],\n",
       "       [809.97],\n",
       "       [809.13],\n",
       "       [808.15],\n",
       "       [807.39],\n",
       "       [811.22],\n",
       "       [807.14],\n",
       "       [806.21],\n",
       "       [809.48],\n",
       "       [806.91],\n",
       "       [820.87],\n",
       "       [825.9 ],\n",
       "       [835.77],\n",
       "       [838.  ],\n",
       "       [841.95],\n",
       "       [815.84],\n",
       "       [801.25]])"
      ]
     },
     "execution_count": 25,
     "metadata": {},
     "output_type": "execute_result"
    }
   ],
   "source": [
    "real_stock_price = test_data.iloc[:,1:2].values\n",
    "real_stock_price"
   ]
  },
  {
   "cell_type": "code",
   "execution_count": 26,
   "id": "ac5360d2",
   "metadata": {
    "scrolled": true
   },
   "outputs": [
    {
     "data": {
      "text/html": [
       "<div>\n",
       "<style scoped>\n",
       "    .dataframe tbody tr th:only-of-type {\n",
       "        vertical-align: middle;\n",
       "    }\n",
       "\n",
       "    .dataframe tbody tr th {\n",
       "        vertical-align: top;\n",
       "    }\n",
       "\n",
       "    .dataframe thead th {\n",
       "        text-align: right;\n",
       "    }\n",
       "</style>\n",
       "<table border=\"1\" class=\"dataframe\">\n",
       "  <thead>\n",
       "    <tr style=\"text-align: right;\">\n",
       "      <th></th>\n",
       "      <th>Open</th>\n",
       "      <th>High</th>\n",
       "      <th>Low</th>\n",
       "      <th>Close</th>\n",
       "      <th>Volume</th>\n",
       "    </tr>\n",
       "    <tr>\n",
       "      <th>Date</th>\n",
       "      <th></th>\n",
       "      <th></th>\n",
       "      <th></th>\n",
       "      <th></th>\n",
       "      <th></th>\n",
       "    </tr>\n",
       "  </thead>\n",
       "  <tbody>\n",
       "    <tr>\n",
       "      <th>2017-01-03</th>\n",
       "      <td>778.81</td>\n",
       "      <td>789.63</td>\n",
       "      <td>775.80</td>\n",
       "      <td>786.14</td>\n",
       "      <td>16,57,300</td>\n",
       "    </tr>\n",
       "    <tr>\n",
       "      <th>2017-01-04</th>\n",
       "      <td>788.36</td>\n",
       "      <td>791.34</td>\n",
       "      <td>783.16</td>\n",
       "      <td>786.90</td>\n",
       "      <td>10,73,000</td>\n",
       "    </tr>\n",
       "    <tr>\n",
       "      <th>2017-01-05</th>\n",
       "      <td>786.08</td>\n",
       "      <td>794.48</td>\n",
       "      <td>785.02</td>\n",
       "      <td>794.02</td>\n",
       "      <td>13,35,200</td>\n",
       "    </tr>\n",
       "    <tr>\n",
       "      <th>2017-01-06</th>\n",
       "      <td>795.26</td>\n",
       "      <td>807.90</td>\n",
       "      <td>792.20</td>\n",
       "      <td>806.15</td>\n",
       "      <td>16,40,200</td>\n",
       "    </tr>\n",
       "    <tr>\n",
       "      <th>2017-01-09</th>\n",
       "      <td>806.40</td>\n",
       "      <td>809.97</td>\n",
       "      <td>802.83</td>\n",
       "      <td>806.65</td>\n",
       "      <td>12,72,400</td>\n",
       "    </tr>\n",
       "  </tbody>\n",
       "</table>\n",
       "</div>"
      ],
      "text/plain": [
       "              Open    High     Low   Close     Volume\n",
       "Date                                                 \n",
       "2017-01-03  778.81  789.63  775.80  786.14  16,57,300\n",
       "2017-01-04  788.36  791.34  783.16  786.90  10,73,000\n",
       "2017-01-05  786.08  794.48  785.02  794.02  13,35,200\n",
       "2017-01-06  795.26  807.90  792.20  806.15  16,40,200\n",
       "2017-01-09  806.40  809.97  802.83  806.65  12,72,400"
      ]
     },
     "execution_count": 26,
     "metadata": {},
     "output_type": "execute_result"
    }
   ],
   "source": [
    "test_data.head()"
   ]
  },
  {
   "cell_type": "code",
   "execution_count": 27,
   "id": "5061246d",
   "metadata": {},
   "outputs": [
    {
     "name": "stdout",
     "output_type": "stream",
     "text": [
      "<class 'pandas.core.frame.DataFrame'>\n",
      "DatetimeIndex: 20 entries, 2017-01-03 to 2017-01-31\n",
      "Data columns (total 5 columns):\n",
      " #   Column  Non-Null Count  Dtype  \n",
      "---  ------  --------------  -----  \n",
      " 0   Open    20 non-null     float64\n",
      " 1   High    20 non-null     float64\n",
      " 2   Low     20 non-null     float64\n",
      " 3   Close   20 non-null     float64\n",
      " 4   Volume  20 non-null     object \n",
      "dtypes: float64(4), object(1)\n",
      "memory usage: 960.0+ bytes\n"
     ]
    }
   ],
   "source": [
    "test_data.info()"
   ]
  },
  {
   "cell_type": "code",
   "execution_count": 28,
   "id": "a0558790",
   "metadata": {},
   "outputs": [],
   "source": [
    "test_data['Volume'] = test_data['Volume'].str.replace(',','').astype(float)"
   ]
  },
  {
   "cell_type": "code",
   "execution_count": 29,
   "id": "c49462bb",
   "metadata": {
    "scrolled": true
   },
   "outputs": [
    {
     "name": "stdout",
     "output_type": "stream",
     "text": [
      "<class 'pandas.core.frame.DataFrame'>\n",
      "DatetimeIndex: 20 entries, 2017-01-03 to 2017-01-31\n",
      "Data columns (total 5 columns):\n",
      " #   Column  Non-Null Count  Dtype  \n",
      "---  ------  --------------  -----  \n",
      " 0   Open    20 non-null     float64\n",
      " 1   High    20 non-null     float64\n",
      " 2   Low     20 non-null     float64\n",
      " 3   Close   20 non-null     float64\n",
      " 4   Volume  20 non-null     float64\n",
      "dtypes: float64(5)\n",
      "memory usage: 960.0 bytes\n"
     ]
    }
   ],
   "source": [
    "test_data.info()"
   ]
  },
  {
   "cell_type": "code",
   "execution_count": 30,
   "id": "d7f8fbb1",
   "metadata": {},
   "outputs": [],
   "source": [
    "test_set = test_data['Open']\n",
    "test_set = pd.DataFrame(test_set)"
   ]
  },
  {
   "cell_type": "code",
   "execution_count": 31,
   "id": "08d643af",
   "metadata": {},
   "outputs": [],
   "source": [
    "#Getting the predicted stock price of 2018\n",
    "dataset_total = pd.concat((stock_data['Open'],test_data['Open']),axis=0)\n",
    "inputs = dataset_total[len(dataset_total)-len(test_data)-60:].values\n",
    "inputs = inputs.reshape(-1,1)\n",
    "inputs = sc.transform(inputs)\n",
    "x_test=[]\n",
    "for i in range(60,80):\n",
    "    x_test.append(inputs[i-60:i,0])\n",
    "x_test = np.array(x_test)\n",
    "x_test = np.reshape(x_test,(x_test.shape[0],x_test.shape[1],1))\n",
    "predicted_stock_price = regression.predict(x_test)\n",
    "predicted_stock_price = sc.inverse_transform(predicted_stock_price)"
   ]
  },
  {
   "cell_type": "code",
   "execution_count": 32,
   "id": "00ed97b9",
   "metadata": {},
   "outputs": [
    {
     "name": "stdout",
     "output_type": "stream",
     "text": [
      "<class 'pandas.core.frame.DataFrame'>\n",
      "RangeIndex: 20 entries, 0 to 19\n",
      "Data columns (total 1 columns):\n",
      " #   Column  Non-Null Count  Dtype  \n",
      "---  ------  --------------  -----  \n",
      " 0   0       20 non-null     float32\n",
      "dtypes: float32(1)\n",
      "memory usage: 208.0 bytes\n"
     ]
    }
   ],
   "source": [
    "predicted_stock_price = pd.DataFrame(predicted_stock_price)\n",
    "predicted_stock_price.info()"
   ]
  },
  {
   "cell_type": "markdown",
   "id": "fd74aa55",
   "metadata": {},
   "source": [
    "<h2>Data visulisation</h2>"
   ]
  },
  {
   "cell_type": "code",
   "execution_count": 33,
   "id": "6efb6a9e",
   "metadata": {},
   "outputs": [
    {
     "data": {
      "image/png": "[encoded data removed]",
      "text/plain": [
       "<Figure size 432x288 with 1 Axes>"
      ]
     },
     "metadata": {
      "needs_background": "light"
     },
     "output_type": "display_data"
    }
   ],
   "source": [
    "plt.plot(real_stock_price,color='red',label=\"Real Stock Price\")\n",
    "plt.plot(predicted_stock_price,color='blue',label=\"Predicted Stock Price\")\n",
    "plt.title(\"Google stock price prediction\")\n",
    "plt.xlabel(\"Time\")\n",
    "plt.ylabel(\"stock price\")\n",
    "plt.legend()\n",
    "plt.show()"
   ]
  }
 ],
 "metadata": {
  "kernelspec": {
   "display_name": "Python 3",
   "language": "python",
   "name": "python3"
  },
  "language_info": {
   "codemirror_mode": {
    "name": "ipython",
    "version": 3
   },
   "file_extension": ".py",
   "mimetype": "text/x-python",
   "name": "python",
   "nbconvert_exporter": "python",
   "pygments_lexer": "ipython3",
   "version": "3.8.8"
  }
 },
 "nbformat": 4,
 "nbformat_minor": 5
}
